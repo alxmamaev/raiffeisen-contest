{
 "cells": [
  {
   "cell_type": "code",
   "execution_count": 1,
   "metadata": {},
   "outputs": [],
   "source": [
    "import pandas as pd\n",
    "import numpy as np\n",
    "\n",
    "from matplotlib import pyplot as plt\n",
    "from copy import copy\n",
    "from sklearn.preprocessing import LabelEncoder\n",
    "from sklearn.model_selection import train_test_split\n",
    "\n",
    "\n",
    "from sklearn.metrics import mean_absolute_error, mean_squared_error\n",
    "\n",
    "from lightgbm.sklearn import LGBMRegressor\n",
    "from catboost import CatBoostRegressor\n",
    "\n",
    "from tqdm import tqdm_notebook\n",
    "\n",
    "%matplotlib inline\n",
    "\n",
    "import warnings\n",
    "warnings.filterwarnings(\"ignore\")"
   ]
  },
  {
   "cell_type": "code",
   "execution_count": 2,
   "metadata": {},
   "outputs": [],
   "source": [
    "def add_std(data):\n",
    "    data[\"amount_std\"] = np.zeros(data.shape[0])\n",
    "    \n",
    "    for user in data[\"customer_id\"].unique():\n",
    "        data[data.customer_id == user][\"amount_std\"] = data[data.customer_id == user][\"amount\"].mean() - data[data.customer_id == user][\"amount\"]\n",
    "    \n",
    "    return data"
   ]
  },
  {
   "cell_type": "code",
   "execution_count": 3,
   "metadata": {},
   "outputs": [
    {
     "data": {
      "text/html": [
       "<div>\n",
       "<style scoped>\n",
       "    .dataframe tbody tr th:only-of-type {\n",
       "        vertical-align: middle;\n",
       "    }\n",
       "\n",
       "    .dataframe tbody tr th {\n",
       "        vertical-align: top;\n",
       "    }\n",
       "\n",
       "    .dataframe thead th {\n",
       "        text-align: right;\n",
       "    }\n",
       "</style>\n",
       "<table border=\"1\" class=\"dataframe\">\n",
       "  <thead>\n",
       "    <tr style=\"text-align: right;\">\n",
       "      <th></th>\n",
       "      <th>amount</th>\n",
       "      <th>atm_address</th>\n",
       "      <th>atm_address_lat</th>\n",
       "      <th>atm_address_lon</th>\n",
       "      <th>city</th>\n",
       "      <th>country</th>\n",
       "      <th>currency</th>\n",
       "      <th>customer_id</th>\n",
       "      <th>home_add_lat</th>\n",
       "      <th>home_add_lon</th>\n",
       "      <th>mcc</th>\n",
       "      <th>pos_address</th>\n",
       "      <th>pos_adress_lat</th>\n",
       "      <th>pos_adress_lon</th>\n",
       "      <th>terminal_id</th>\n",
       "      <th>transaction_date</th>\n",
       "      <th>work_add_lat</th>\n",
       "      <th>work_add_lon</th>\n",
       "    </tr>\n",
       "  </thead>\n",
       "  <tbody>\n",
       "    <tr>\n",
       "      <th>0</th>\n",
       "      <td>2.884034</td>\n",
       "      <td>NaN</td>\n",
       "      <td>NaN</td>\n",
       "      <td>NaN</td>\n",
       "      <td>ST PETERSBURG</td>\n",
       "      <td>RUS</td>\n",
       "      <td>643.0</td>\n",
       "      <td>0dc0137d280a2a82d2dc89282450ff1b</td>\n",
       "      <td>59.851</td>\n",
       "      <td>30.232</td>\n",
       "      <td>5261</td>\n",
       "      <td>NaN</td>\n",
       "      <td>59.844072</td>\n",
       "      <td>30.179153</td>\n",
       "      <td>11606fde0c814ce78e0d726e39a0a5ee</td>\n",
       "      <td>2017-07-15</td>\n",
       "      <td>59.847</td>\n",
       "      <td>30.177</td>\n",
       "    </tr>\n",
       "    <tr>\n",
       "      <th>1</th>\n",
       "      <td>2.775633</td>\n",
       "      <td>NaN</td>\n",
       "      <td>NaN</td>\n",
       "      <td>NaN</td>\n",
       "      <td>ST PETERSBURG</td>\n",
       "      <td>RUS</td>\n",
       "      <td>643.0</td>\n",
       "      <td>0dc0137d280a2a82d2dc89282450ff1b</td>\n",
       "      <td>59.851</td>\n",
       "      <td>30.232</td>\n",
       "      <td>5261</td>\n",
       "      <td>NaN</td>\n",
       "      <td>59.844072</td>\n",
       "      <td>30.179153</td>\n",
       "      <td>e9647a5e1eacfb06713b6af755ccc595</td>\n",
       "      <td>2017-10-27</td>\n",
       "      <td>59.847</td>\n",
       "      <td>30.177</td>\n",
       "    </tr>\n",
       "    <tr>\n",
       "      <th>2</th>\n",
       "      <td>3.708368</td>\n",
       "      <td>NaN</td>\n",
       "      <td>NaN</td>\n",
       "      <td>NaN</td>\n",
       "      <td>St Petersburg</td>\n",
       "      <td>RUS</td>\n",
       "      <td>643.0</td>\n",
       "      <td>0dc0137d280a2a82d2dc89282450ff1b</td>\n",
       "      <td>59.851</td>\n",
       "      <td>30.232</td>\n",
       "      <td>5992</td>\n",
       "      <td>PR.MARSHALA ZHUKOVA,31St Petersburg190000    7...</td>\n",
       "      <td>59.858198</td>\n",
       "      <td>30.229024</td>\n",
       "      <td>df06c1fcd3718a514535ae822785f716</td>\n",
       "      <td>2017-10-03</td>\n",
       "      <td>59.847</td>\n",
       "      <td>30.177</td>\n",
       "    </tr>\n",
       "  </tbody>\n",
       "</table>\n",
       "</div>"
      ],
      "text/plain": [
       "     amount atm_address  atm_address_lat  atm_address_lon           city  \\\n",
       "0  2.884034         NaN              NaN              NaN  ST PETERSBURG   \n",
       "1  2.775633         NaN              NaN              NaN  ST PETERSBURG   \n",
       "2  3.708368         NaN              NaN              NaN  St Petersburg   \n",
       "\n",
       "  country  currency                       customer_id  home_add_lat  \\\n",
       "0     RUS     643.0  0dc0137d280a2a82d2dc89282450ff1b        59.851   \n",
       "1     RUS     643.0  0dc0137d280a2a82d2dc89282450ff1b        59.851   \n",
       "2     RUS     643.0  0dc0137d280a2a82d2dc89282450ff1b        59.851   \n",
       "\n",
       "   home_add_lon   mcc                                        pos_address  \\\n",
       "0        30.232  5261                                                NaN   \n",
       "1        30.232  5261                                                NaN   \n",
       "2        30.232  5992  PR.MARSHALA ZHUKOVA,31St Petersburg190000    7...   \n",
       "\n",
       "   pos_adress_lat  pos_adress_lon                       terminal_id  \\\n",
       "0       59.844072       30.179153  11606fde0c814ce78e0d726e39a0a5ee   \n",
       "1       59.844072       30.179153  e9647a5e1eacfb06713b6af755ccc595   \n",
       "2       59.858198       30.229024  df06c1fcd3718a514535ae822785f716   \n",
       "\n",
       "  transaction_date  work_add_lat  work_add_lon  \n",
       "0       2017-07-15        59.847        30.177  \n",
       "1       2017-10-27        59.847        30.177  \n",
       "2       2017-10-03        59.847        30.177  "
      ]
     },
     "execution_count": 3,
     "metadata": {},
     "output_type": "execute_result"
    }
   ],
   "source": [
    "data = pd.read_csv(\"train_set.csv\")\n",
    "data.head(3)"
   ]
  },
  {
   "cell_type": "code",
   "execution_count": 4,
   "metadata": {},
   "outputs": [
    {
     "data": {
      "image/png": "[encoded data removed]",
      "text/plain": [
       "<Figure size 432x288 with 1 Axes>"
      ]
     },
     "metadata": {},
     "output_type": "display_data"
    }
   ],
   "source": [
    "data.city.value_counts()[:15].plot(kind=\"bar\")\n",
    "plt.show()"
   ]
  },
  {
   "cell_type": "code",
   "execution_count": 5,
   "metadata": {},
   "outputs": [],
   "source": [
    "replaces_city = {\n",
    "    \"PETER\": \"ST-PETERBUG\",\n",
    "    \"MOSK\": \"MOSCOW\",\n",
    "    \"MOSC\": \"MOSCOW\"\n",
    "}\n",
    "\n",
    "def prepear_city_name(city):\n",
    "    city = city.replace(\" \", \"\")\n",
    "    city = city.replace(\"g.\", \"\")\n",
    "    \n",
    "    for c1, c2 in replaces_city.items():\n",
    "        if c1 in city:\n",
    "            city = c2\n",
    "    \n",
    "    return city.upper()"
   ]
  },
  {
   "cell_type": "code",
   "execution_count": 6,
   "metadata": {},
   "outputs": [],
   "source": [
    "def get_means_amount(data):\n",
    "    sums = dict()\n",
    "    counts = dict()\n",
    "    \n",
    "    for user, amount in zip(data[\"customer_id\"], data[\"amount\"]):\n",
    "        sums[user] = sums.get(user, 0) + amount \n",
    "        counts[user] = counts.get(user, 0) + 1\n",
    "    \n",
    "    for i in sums:\n",
    "        sums[i]/=counts[i]\n",
    "    \n",
    "    return sums\n",
    "\n",
    "def add_std_amount(data):\n",
    "    astd = []\n",
    "    mean_amount = get_means_amount(data)\n",
    "    \n",
    "    for user, amount in zip(data[\"customer_id\"], data[\"amount\"]):\n",
    "        astd.append(mean_amount[user]-amount)\n",
    "    \n",
    "    return astd\n",
    "\n",
    "def add_means(data):\n",
    "    ameans = []\n",
    "    mean_amount = get_means_amount(data)\n",
    "    \n",
    "    for user in data[\"customer_id\"]:\n",
    "        ameans.append(mean_amount[user])\n",
    "    \n",
    "    return ameans"
   ]
  },
  {
   "cell_type": "code",
   "execution_count": 7,
   "metadata": {},
   "outputs": [],
   "source": [
    "data[\"is_atm\"] = data.atm_address_lat.isna()\n",
    "data[\"tx_lat\"] = data.atm_address_lat\n",
    "data[\"tx_lon\"] = data.atm_address_lon\n",
    "\n",
    "data[\"tx_lat\"][data.tx_lat.isna()] = data.pos_adress_lon[data.tx_lat.isna()]\n",
    "data[\"tx_lon\"][data.tx_lon.isna()] = data.pos_adress_lon[data.tx_lon.isna()]\n",
    "data = data[[\"customer_id\", \"city\", \"amount\", \"currency\", \"mcc\", \"tx_lat\", \"tx_lon\", \"work_add_lat\", \"work_add_lon\", \"home_add_lat\", \"home_add_lon\"]]"
   ]
  },
  {
   "cell_type": "code",
   "execution_count": 8,
   "metadata": {},
   "outputs": [
    {
     "data": {
      "image/png": "[encoded data removed]",
      "text/plain": [
       "<Figure size 432x288 with 1 Axes>"
      ]
     },
     "metadata": {},
     "output_type": "display_data"
    }
   ],
   "source": [
    "city_encoder = LabelEncoder()\n",
    "\n",
    "data = data[np.invert(data.tx_lat.isna())]\n",
    "\n",
    "data[\"city\"] = data[\"city\"].fillna(\"None\")\n",
    "data[\"city\"] = data[\"city\"].apply(prepear_city_name)\n",
    "\n",
    "data.city.value_counts()[:15].plot(kind=\"bar\")\n",
    "plt.show()\n",
    "\n",
    "data[\"city\"] = city_encoder.fit_transform(data[\"city\"])\n",
    "city_counts = data[\"city\"].value_counts()\n",
    "data[\"city_counts\"] = data[\"city\"].apply(lambda x: city_counts[x])\n",
    "\n",
    "data[\"std_amount\"] = add_std_amount(data)\n",
    "data[\"std_amount_sq\"] = data[\"std_amount\"]**2\n",
    "data[\"mean_amount\"] = add_means(data)\n",
    "\n",
    "# data[\"dispersion\"] = data.customer_id.apply(lambda x: calc_dispersion(x, data))\n",
    "\n",
    "X = data[[\"city\", \"city_counts\", \"amount\", \"currency\", \"mcc\", \"std_amount\", \"std_amount_sq\", \"mean_amount\"]]\n",
    "\n",
    "Y_home = np.sqrt(((data[[\"tx_lat\", \"tx_lon\"]].get_values() - data[[\"home_add_lat\", \"home_add_lon\"]].get_values())**2).sum(axis=1))\n",
    "Y_work = np.sqrt(((data[[\"tx_lat\", \"tx_lon\"]].get_values() - data[[\"work_add_lat\", \"work_add_lon\"]].get_values())**2).sum(axis=1))"
   ]
  },
  {
   "cell_type": "code",
   "execution_count": 9,
   "metadata": {},
   "outputs": [],
   "source": [
    "categorical_features = [\"city\", \"currency\", \"mcc\"]"
   ]
  },
  {
   "cell_type": "code",
   "execution_count": 10,
   "metadata": {},
   "outputs": [],
   "source": [
    "X_home = X[np.invert(np.isnan(Y_home))]\n",
    "Y_home = Y_home[np.invert(np.isnan(Y_home))]\n",
    "\n",
    "X_work = X[np.invert(np.isnan(Y_work))]\n",
    "Y_work = Y_work[np.invert(np.isnan(Y_work))]"
   ]
  },
  {
   "cell_type": "code",
   "execution_count": 11,
   "metadata": {},
   "outputs": [
    {
     "name": "stdout",
     "output_type": "stream",
     "text": [
      "[18.67637089  5.03544866 18.53517833 ... 18.18855949 29.34982066\n",
      " 18.28023065]\n",
      "[18.61292153  3.00750663 18.16111671 ... 19.27008364 29.56553609\n",
      " 17.28494597]\n",
      "MAE: 1.7814061089542155\n",
      "MSE: 31.678914655770257\n"
     ]
    }
   ],
   "source": [
    "x_train, x_test, y_train, y_test = train_test_split(X_home, Y_home, test_size=0.33, shuffle=True, random_state=321)\n",
    "\n",
    "model_home = LGBMRegressor(n_estimators=800, max_depth=5, categorical_features=categorical_features)\n",
    "model_home.fit(x_train, y_train)\n",
    "\n",
    "pred = model_home.predict(x_test)\n",
    "\n",
    "print(pred)\n",
    "print(y_test)\n",
    "\n",
    "print(\"MAE:\", mean_absolute_error(y_test, pred))\n",
    "print(\"MSE:\", mean_squared_error(y_test, pred))"
   ]
  },
  {
   "cell_type": "code",
   "execution_count": 12,
   "metadata": {},
   "outputs": [
    {
     "data": {
      "text/plain": [
       "array([5577, 6281, 1125,   59, 2609,  782,  718, 4187])"
      ]
     },
     "execution_count": 12,
     "metadata": {},
     "output_type": "execute_result"
    }
   ],
   "source": [
    "model_home.feature_importances_"
   ]
  },
  {
   "cell_type": "code",
   "execution_count": 13,
   "metadata": {},
   "outputs": [
    {
     "name": "stdout",
     "output_type": "stream",
     "text": [
      "[18.32888614 18.30967227 29.93817182 ... 18.12693326  1.53495095\n",
      " 18.26411391]\n",
      "[18.12433188 18.38921069 29.43722938 ... 18.16103574  0.04455334\n",
      " 18.38903162]\n",
      "MAE: 1.4354280597242748\n",
      "MSE: 21.424748565442467\n"
     ]
    }
   ],
   "source": [
    "x_train, x_test, y_train, y_test = train_test_split(X_work, Y_work, test_size=0.33, shuffle=True, random_state=321)\n",
    "\n",
    "model_work = LGBMRegressor(n_estimators=800, max_depth=5, categorical_features=categorical_features)\n",
    "model_work.fit(x_train, y_train)\n",
    "\n",
    "pred = model_work.predict(x_test)\n",
    "\n",
    "print(pred)\n",
    "print(y_test)\n",
    "\n",
    "print(\"MAE:\", mean_absolute_error(y_test, pred))\n",
    "print(\"MSE:\", mean_squared_error(y_test, pred))"
   ]
  },
  {
   "cell_type": "markdown",
   "metadata": {},
   "source": [
    "## Предсказание"
   ]
  },
  {
   "cell_type": "code",
   "execution_count": 14,
   "metadata": {
    "scrolled": false
   },
   "outputs": [
    {
     "data": {
      "text/html": [
       "<div>\n",
       "<style scoped>\n",
       "    .dataframe tbody tr th:only-of-type {\n",
       "        vertical-align: middle;\n",
       "    }\n",
       "\n",
       "    .dataframe tbody tr th {\n",
       "        vertical-align: top;\n",
       "    }\n",
       "\n",
       "    .dataframe thead th {\n",
       "        text-align: right;\n",
       "    }\n",
       "</style>\n",
       "<table border=\"1\" class=\"dataframe\">\n",
       "  <thead>\n",
       "    <tr style=\"text-align: right;\">\n",
       "      <th></th>\n",
       "      <th>amount</th>\n",
       "      <th>atm_address</th>\n",
       "      <th>atm_address_lat</th>\n",
       "      <th>atm_address_lon</th>\n",
       "      <th>city</th>\n",
       "      <th>country</th>\n",
       "      <th>currency</th>\n",
       "      <th>customer_id</th>\n",
       "      <th>mcc</th>\n",
       "      <th>pos_address</th>\n",
       "      <th>pos_address_lat</th>\n",
       "      <th>pos_address_lon</th>\n",
       "      <th>terminal_id</th>\n",
       "      <th>transaction_date</th>\n",
       "    </tr>\n",
       "  </thead>\n",
       "  <tbody>\n",
       "    <tr>\n",
       "      <th>0</th>\n",
       "      <td>2.211818</td>\n",
       "      <td>NaN</td>\n",
       "      <td>NaN</td>\n",
       "      <td>NaN</td>\n",
       "      <td>IVANTEEVKA</td>\n",
       "      <td>RUS</td>\n",
       "      <td>643.0</td>\n",
       "      <td>00fd410f5c580c8351cafa88d82b60f3</td>\n",
       "      <td>5,411</td>\n",
       "      <td>2-1 TOLMACHEVA STRIVANTEEVKA141280    RUSRUS</td>\n",
       "      <td>55.967487</td>\n",
       "      <td>37.913682</td>\n",
       "      <td>ff0476dae4b098a7b16aabe93d4268df</td>\n",
       "      <td>2017-08-24</td>\n",
       "    </tr>\n",
       "    <tr>\n",
       "      <th>1</th>\n",
       "      <td>1.331379</td>\n",
       "      <td>NaN</td>\n",
       "      <td>NaN</td>\n",
       "      <td>NaN</td>\n",
       "      <td>IVANTEEVKA</td>\n",
       "      <td>RUS</td>\n",
       "      <td>643.0</td>\n",
       "      <td>00fd410f5c580c8351cafa88d82b60f3</td>\n",
       "      <td>4,111</td>\n",
       "      <td>SOVETSKIJ, 32IVANTEEVKA141282    RUSRUS</td>\n",
       "      <td>55.971296</td>\n",
       "      <td>37.905184</td>\n",
       "      <td>7cfd9a60282459d4692ecc85b856072e</td>\n",
       "      <td>2017-08-12</td>\n",
       "    </tr>\n",
       "    <tr>\n",
       "      <th>2</th>\n",
       "      <td>2.608004</td>\n",
       "      <td>NaN</td>\n",
       "      <td>NaN</td>\n",
       "      <td>NaN</td>\n",
       "      <td>PUSHKINO</td>\n",
       "      <td>RUS</td>\n",
       "      <td>643.0</td>\n",
       "      <td>00fd410f5c580c8351cafa88d82b60f3</td>\n",
       "      <td>5,411</td>\n",
       "      <td>105,KRASOARMEYSKOE SHPUSHKINO141206    RUSRUS</td>\n",
       "      <td>56.016591</td>\n",
       "      <td>37.909098</td>\n",
       "      <td>7e5a532f0029861d8a9c4f0479b9450b</td>\n",
       "      <td>2017-06-17</td>\n",
       "    </tr>\n",
       "    <tr>\n",
       "      <th>3</th>\n",
       "      <td>1.916752</td>\n",
       "      <td>NaN</td>\n",
       "      <td>NaN</td>\n",
       "      <td>NaN</td>\n",
       "      <td>IVANTEEVKA</td>\n",
       "      <td>RUS</td>\n",
       "      <td>643.0</td>\n",
       "      <td>00fd410f5c580c8351cafa88d82b60f3</td>\n",
       "      <td>5,411</td>\n",
       "      <td>G. IVANTEEVKA, UL.TOLMACHEVA, D.6IVANTEEVKA141...</td>\n",
       "      <td>55.964507</td>\n",
       "      <td>37.937912</td>\n",
       "      <td>2afe7d1bc61b86c449f413bdf2119032</td>\n",
       "      <td>2017-08-12</td>\n",
       "    </tr>\n",
       "    <tr>\n",
       "      <th>4</th>\n",
       "      <td>1.981067</td>\n",
       "      <td>NaN</td>\n",
       "      <td>NaN</td>\n",
       "      <td>NaN</td>\n",
       "      <td>MOSCOW</td>\n",
       "      <td>RUS</td>\n",
       "      <td>643.0</td>\n",
       "      <td>00fd410f5c580c8351cafa88d82b60f3</td>\n",
       "      <td>5,814</td>\n",
       "      <td>5 KOMSOMOLSKAYA SQMOSCOW101000    RUSRUS</td>\n",
       "      <td>55.776802</td>\n",
       "      <td>37.657352</td>\n",
       "      <td>ab4f00601ff1d949afc59ee3f804c79c</td>\n",
       "      <td>2017-04-26</td>\n",
       "    </tr>\n",
       "  </tbody>\n",
       "</table>\n",
       "</div>"
      ],
      "text/plain": [
       "     amount atm_address  atm_address_lat  atm_address_lon        city country  \\\n",
       "0  2.211818         NaN              NaN              NaN  IVANTEEVKA     RUS   \n",
       "1  1.331379         NaN              NaN              NaN  IVANTEEVKA     RUS   \n",
       "2  2.608004         NaN              NaN              NaN    PUSHKINO     RUS   \n",
       "3  1.916752         NaN              NaN              NaN  IVANTEEVKA     RUS   \n",
       "4  1.981067         NaN              NaN              NaN      MOSCOW     RUS   \n",
       "\n",
       "   currency                       customer_id    mcc  \\\n",
       "0     643.0  00fd410f5c580c8351cafa88d82b60f3  5,411   \n",
       "1     643.0  00fd410f5c580c8351cafa88d82b60f3  4,111   \n",
       "2     643.0  00fd410f5c580c8351cafa88d82b60f3  5,411   \n",
       "3     643.0  00fd410f5c580c8351cafa88d82b60f3  5,411   \n",
       "4     643.0  00fd410f5c580c8351cafa88d82b60f3  5,814   \n",
       "\n",
       "                                         pos_address  pos_address_lat  \\\n",
       "0       2-1 TOLMACHEVA STRIVANTEEVKA141280    RUSRUS        55.967487   \n",
       "1            SOVETSKIJ, 32IVANTEEVKA141282    RUSRUS        55.971296   \n",
       "2      105,KRASOARMEYSKOE SHPUSHKINO141206    RUSRUS        56.016591   \n",
       "3  G. IVANTEEVKA, UL.TOLMACHEVA, D.6IVANTEEVKA141...        55.964507   \n",
       "4           5 KOMSOMOLSKAYA SQMOSCOW101000    RUSRUS        55.776802   \n",
       "\n",
       "   pos_address_lon                       terminal_id transaction_date  \n",
       "0        37.913682  ff0476dae4b098a7b16aabe93d4268df       2017-08-24  \n",
       "1        37.905184  7cfd9a60282459d4692ecc85b856072e       2017-08-12  \n",
       "2        37.909098  7e5a532f0029861d8a9c4f0479b9450b       2017-06-17  \n",
       "3        37.937912  2afe7d1bc61b86c449f413bdf2119032       2017-08-12  \n",
       "4        37.657352  ab4f00601ff1d949afc59ee3f804c79c       2017-04-26  "
      ]
     },
     "execution_count": 14,
     "metadata": {},
     "output_type": "execute_result"
    }
   ],
   "source": [
    "test_data = pd.read_csv(\"test_set.csv\")\n",
    "test_data.head()"
   ]
  },
  {
   "cell_type": "code",
   "execution_count": 15,
   "metadata": {},
   "outputs": [],
   "source": [
    "test_data[\"is_atm\"] = test_data.atm_address_lat.isna()\n",
    "test_data[\"tx_lat\"] = test_data.atm_address_lat\n",
    "test_data[\"tx_lon\"] = test_data.atm_address_lon\n",
    "\n",
    "test_data[\"tx_lat\"][test_data.tx_lat.isna()] = test_data.pos_address_lat[test_data.tx_lat.isna()]\n",
    "test_data[\"tx_lon\"][test_data.tx_lon.isna()] = test_data.pos_address_lon[test_data.tx_lon.isna()]\n",
    "test_data = test_data[[\"customer_id\", \"city\", \"amount\", \"currency\", \"mcc\", \"tx_lat\", \"tx_lon\"]]"
   ]
  },
  {
   "cell_type": "code",
   "execution_count": 16,
   "metadata": {},
   "outputs": [],
   "source": [
    "test_data = test_data[np.invert(test_data.tx_lat.isna())]\n",
    "\n",
    "test_data[\"city\"] = test_data[\"city\"].fillna(\"None\")\n",
    "test_data[\"city\"][np.invert(test_data[\"city\"].isin(city_encoder.classes_))] = \"None\"\n",
    "test_data[\"city\"] = test_data[\"city\"].apply(prepear_city_name)\n",
    "\n",
    "test_data[\"city\"] = city_encoder.transform(test_data[\"city\"])\n",
    "test_data[\"city_counts\"] = test_data[\"city\"].apply(lambda x: city_counts[x])\n",
    "\n",
    "test_data[\"std_amount\"] = add_std_amount(test_data)\n",
    "test_data[\"std_amount_sq\"] = test_data[\"std_amount\"]**2\n",
    "test_data[\"mean_amount\"] = add_means(test_data)\n",
    "\n",
    "# data[\"dispersion\"] = data.customer_id.apply(lambda x: calc_dispersion(x, data))\n",
    "\n",
    "X = test_data[[\"city\", \"city_counts\", \"amount\", \"currency\", \"mcc\", \"std_amount\", \"std_amount_sq\", \"mean_amount\"]]"
   ]
  },
  {
   "cell_type": "code",
   "execution_count": 17,
   "metadata": {},
   "outputs": [],
   "source": [
    "X[\"mcc\"] = X[\"mcc\"].apply(lambda x: x if type(x) is int else int(x.replace(\",\", \"\")))"
   ]
  },
  {
   "cell_type": "code",
   "execution_count": null,
   "metadata": {},
   "outputs": [],
   "source": [
    "dist_home = model_home.predict(X)\n",
    "dist_work = model_work.predict(X)"
   ]
  },
  {
   "cell_type": "code",
   "execution_count": null,
   "metadata": {},
   "outputs": [],
   "source": [
    "test_data[\"home_lon\"] = test_data[\"tx_lon\"]\n",
    "test_data[\"home_lat\"] = test_data[\"tx_lat\"]\n",
    "\n",
    "test_data[\"work_lon\"] = test_data[\"tx_lon\"]\n",
    "test_data[\"work_lat\"] = test_data[\"tx_lat\"]"
   ]
  },
  {
   "cell_type": "code",
   "execution_count": null,
   "metadata": {},
   "outputs": [],
   "source": [
    "test_data[\"home_dist\"] = dist_home\n",
    "test_data[\"work_dist\"] = dist_work"
   ]
  },
  {
   "cell_type": "code",
   "execution_count": null,
   "metadata": {},
   "outputs": [],
   "source": [
    "submit_data = []\n",
    "\n",
    "for user in tqdm_notebook(test_data.customer_id.unique()):\n",
    "    user_data = test_data[test_data.customer_id == user]\n",
    "    \n",
    "    home_lon = user_data[\"home_lon\"][user_data[\"home_dist\"] == user_data[\"home_dist\"].min()].get_values()[0]\n",
    "    home_lat = user_data[\"home_lat\"][user_data[\"home_dist\"] == user_data[\"home_dist\"].min()].get_values()[0]\n",
    "    \n",
    "    work_lon = user_data[\"work_lon\"][user_data[\"work_dist\"] == user_data[\"work_dist\"].min()].get_values()[0]\n",
    "    work_lat = user_data[\"work_lat\"][user_data[\"work_dist\"] == user_data[\"work_dist\"].min()].get_values()[0]\n",
    "    \n",
    "    submit_data.append([user, home_lon, home_lat, work_lon, work_lat])"
   ]
  },
  {
   "cell_type": "code",
   "execution_count": null,
   "metadata": {},
   "outputs": [],
   "source": [
    "submit = pd.DataFrame(submit_data, columns=[\"_ID_\",\"_HOME_LON_\",\"_HOME_LAT_\",\"_WORK_LON_\",\"_WORK_LAT_\"])"
   ]
  },
  {
   "cell_type": "code",
   "execution_count": null,
   "metadata": {},
   "outputs": [],
   "source": [
    "submit = submit[[\"_ID_\",\"_WORK_LAT_\",\"_WORK_LON_\",\"_HOME_LAT_\",\"_HOME_LON_\"]]"
   ]
  },
  {
   "cell_type": "code",
   "execution_count": null,
   "metadata": {},
   "outputs": [],
   "source": [
    "submit.to_csv(\"submit.csv\", index=False)"
   ]
  },
  {
   "cell_type": "code",
   "execution_count": null,
   "metadata": {},
   "outputs": [],
   "source": [
    "submit[submit._WORK_LAT_.isnull()]"
   ]
  },
  {
   "cell_type": "code",
   "execution_count": null,
   "metadata": {},
   "outputs": [],
   "source": [
    "submit.info()"
   ]
  },
  {
   "cell_type": "code",
   "execution_count": null,
   "metadata": {},
   "outputs": [],
   "source": []
  },
  {
   "cell_type": "code",
   "execution_count": null,
   "metadata": {},
   "outputs": [],
   "source": [
    "user_data = test_data[test_data.customer_id == \"6bef708e8cc9da6260de93a153b4c9f6\"]"
   ]
  }
 ],
 "metadata": {
  "kernelspec": {
   "display_name": "Python 3",
   "language": "python",
   "name": "python3"
  },
  "language_info": {
   "codemirror_mode": {
    "name": "ipython",
    "version": 3
   },
   "file_extension": ".py",
   "mimetype": "text/x-python",
   "name": "python",
   "nbconvert_exporter": "python",
   "pygments_lexer": "ipython3",
   "version": "3.6.4"
  }
 },
 "nbformat": 4,
 "nbformat_minor": 2
}
